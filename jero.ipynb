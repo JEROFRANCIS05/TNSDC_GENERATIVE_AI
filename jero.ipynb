{
  "nbformat": 4,
  "nbformat_minor": 0,
  "metadata": {
    "colab": {
      "provenance": [],
      "authorship_tag": "ABX9TyNCO+PiKx3mKwg425CuLmI9",
      "include_colab_link": true
    },
    "kernelspec": {
      "name": "python3",
      "display_name": "Python 3"
    },
    "language_info": {
      "name": "python"
    }
  },
  "cells": [
    {
      "cell_type": "markdown",
      "metadata": {
        "id": "view-in-github",
        "colab_type": "text"
      },
      "source": [
        "<a href=\"https://colab.research.google.com/github/JEROFRANCIS05/TNSDC_GENERATIVE_AI/blob/main/jero.ipynb\" target=\"_parent\"><img src=\"https://colab.research.google.com/assets/colab-badge.svg\" alt=\"Open In Colab\"/></a>"
      ]
    },
    {
      "cell_type": "code",
      "execution_count": null,
      "metadata": {
        "id": "MDstoKevVX_P"
      },
      "outputs": [],
      "source": [
        "import cv2\n",
        "import numpy as np\n",
        "\n",
        "def process_frame(frame):\n",
        "    # Preprocess the frame for lane detection\n",
        "    # This includes grayscale conversion, Gaussian blur, and Canny edge detection\n",
        "    processed_frame = preprocess_frame(frame)\n",
        "\n",
        "    # Apply CNN model to detect lanes\n",
        "    lane_lines = detect_lanes(processed_frame)\n",
        "\n",
        "    # Overlay detected lanes on the original frame\n",
        "    output_frame = overlay_lanes(frame, lane_lines)\n",
        "\n",
        "    return output_frame\n",
        "\n",
        "# Assuming the model is loaded and the video stream is set up\n",
        "# Process video stream frame by frame\n",
        "while True:\n",
        "    ret, frame = video_stream.read()\n",
        "    if not ret:\n",
        "        break  # Exit loop if no more frames are available\n",
        "\n",
        "    output_frame = process_frame(frame)\n",
        "    cv2.imshow('Lane Detection', output_frame)\n",
        "\n",
        "    if cv2.waitKey(1) & 0xFF == ord('q'):  # Press 'q' to quit\n",
        "        break\n",
        "\n",
        "video_stream.release()\n",
        "cv2.destroyAllWindows()"
      ]
    }
  ]
}